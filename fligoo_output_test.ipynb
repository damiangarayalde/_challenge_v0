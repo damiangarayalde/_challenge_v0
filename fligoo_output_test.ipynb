{
 "cells": [
  {
   "cell_type": "code",
   "execution_count": 1,
   "metadata": {},
   "outputs": [],
   "source": [
    "# Notebook Overview:\n",
    "\n",
    "# the goal here was to check the API operation and test how the data transformation and sub selection was made."
   ]
  },
  {
   "cell_type": "code",
   "execution_count": 1,
   "metadata": {},
   "outputs": [
    {
     "name": "stdout",
     "output_type": "stream",
     "text": [
      "Requirement already satisfied: pandas==2.1.1 in /opt/conda/lib/python3.11/site-packages (from -r requirements_jupyter.txt (line 1)) (2.1.1)\n",
      "Requirement already satisfied: psycopg2-binary==2.9.9 in /opt/conda/lib/python3.11/site-packages (from -r requirements_jupyter.txt (line 2)) (2.9.9)\n",
      "Requirement already satisfied: SQLAlchemy==1.4.36 in /opt/conda/lib/python3.11/site-packages (from -r requirements_jupyter.txt (line 3)) (1.4.36)\n",
      "Requirement already satisfied: python-dotenv in /opt/conda/lib/python3.11/site-packages (from -r requirements_jupyter.txt (line 4)) (1.0.0)\n",
      "Requirement already satisfied: numpy>=1.23.2 in /opt/conda/lib/python3.11/site-packages (from pandas==2.1.1->-r requirements_jupyter.txt (line 1)) (1.26.0)\n",
      "Requirement already satisfied: python-dateutil>=2.8.2 in /opt/conda/lib/python3.11/site-packages (from pandas==2.1.1->-r requirements_jupyter.txt (line 1)) (2.8.2)\n",
      "Requirement already satisfied: pytz>=2020.1 in /opt/conda/lib/python3.11/site-packages (from pandas==2.1.1->-r requirements_jupyter.txt (line 1)) (2023.3.post1)\n",
      "Requirement already satisfied: tzdata>=2022.1 in /opt/conda/lib/python3.11/site-packages (from pandas==2.1.1->-r requirements_jupyter.txt (line 1)) (2023.3)\n",
      "Requirement already satisfied: greenlet!=0.4.17 in /opt/conda/lib/python3.11/site-packages (from SQLAlchemy==1.4.36->-r requirements_jupyter.txt (line 3)) (2.0.2)\n",
      "Requirement already satisfied: six>=1.5 in /opt/conda/lib/python3.11/site-packages (from python-dateutil>=2.8.2->pandas==2.1.1->-r requirements_jupyter.txt (line 1)) (1.16.0)\n"
     ]
    }
   ],
   "source": [
    "!pip install -r requirements_jupyter.txt "
   ]
  },
  {
   "cell_type": "code",
   "execution_count": 2,
   "metadata": {},
   "outputs": [],
   "source": [
    "import os\n",
    "import pandas as pd\n",
    "from dotenv import dotenv_values\n",
    "from sqlalchemy import create_engine, inspect\n",
    "\n",
    "CONFIG = dotenv_values('.env')\n",
    "if not CONFIG:\n",
    "    CONFIG = os.environ\n",
    "\n",
    "connection_uri = \"postgresql+psycopg2://{}:{}@{}:{}\".format(\n",
    "    CONFIG[\"POSTGRES_USER\"],\n",
    "    CONFIG[\"POSTGRES_PASSWORD\"],\n",
    "    CONFIG['POSTGRES_HOST'],\n",
    "    CONFIG[\"POSTGRES_PORT\"],\n",
    ")"
   ]
  },
  {
   "cell_type": "code",
   "execution_count": 3,
   "metadata": {},
   "outputs": [
    {
     "data": {
      "text/plain": [
       "<sqlalchemy.engine.base.Connection at 0xffff4ba0d850>"
      ]
     },
     "execution_count": 3,
     "metadata": {},
     "output_type": "execute_result"
    }
   ],
   "source": [
    "engine = create_engine(connection_uri, pool_pre_ping=True)\n",
    "engine.connect()"
   ]
  },
  {
   "cell_type": "code",
   "execution_count": 10,
   "metadata": {},
   "outputs": [
    {
     "data": {
      "text/html": [
       "<div>\n",
       "<style scoped>\n",
       "    .dataframe tbody tr th:only-of-type {\n",
       "        vertical-align: middle;\n",
       "    }\n",
       "\n",
       "    .dataframe tbody tr th {\n",
       "        vertical-align: top;\n",
       "    }\n",
       "\n",
       "    .dataframe thead th {\n",
       "        text-align: right;\n",
       "    }\n",
       "</style>\n",
       "<table border=\"1\" class=\"dataframe\">\n",
       "  <thead>\n",
       "    <tr style=\"text-align: right;\">\n",
       "      <th></th>\n",
       "      <th>index</th>\n",
       "      <th>flight_date</th>\n",
       "      <th>flight_status</th>\n",
       "      <th>departure_airport</th>\n",
       "      <th>departure_timezone</th>\n",
       "      <th>arrival_airport</th>\n",
       "      <th>arrival_timezone</th>\n",
       "      <th>arrival_terminal</th>\n",
       "      <th>airline_name</th>\n",
       "      <th>flight_number</th>\n",
       "    </tr>\n",
       "  </thead>\n",
       "  <tbody>\n",
       "    <tr>\n",
       "      <th>0</th>\n",
       "      <td>0</td>\n",
       "      <td>2023-10-05</td>\n",
       "      <td>landed</td>\n",
       "      <td>Port Lincoln</td>\n",
       "      <td>Australia - Adelaide</td>\n",
       "      <td>Adelaide International Airport</td>\n",
       "      <td>Australia - Adelaide</td>\n",
       "      <td>4</td>\n",
       "      <td>Thai AirAsia</td>\n",
       "      <td>540</td>\n",
       "    </tr>\n",
       "  </tbody>\n",
       "</table>\n",
       "</div>"
      ],
      "text/plain": [
       "   index flight_date flight_status departure_airport    departure_timezone  \\\n",
       "0      0  2023-10-05        landed      Port Lincoln  Australia - Adelaide   \n",
       "\n",
       "                  arrival_airport      arrival_timezone arrival_terminal  \\\n",
       "0  Adelaide International Airport  Australia - Adelaide                4   \n",
       "\n",
       "   airline_name flight_number  \n",
       "0  Thai AirAsia           540  "
      ]
     },
     "metadata": {},
     "output_type": "display_data"
    }
   ],
   "source": [
    "table_name = 'testdata' \n",
    "\n",
    "if table_name in inspect(engine).get_table_names():\n",
    "    output_df = pd.read_sql(f\"SELECT * FROM {table_name}\", engine)\n",
    "    display(output_df)"
   ]
  }
 ],
 "metadata": {
  "kernelspec": {
   "display_name": "Python 3 (ipykernel)",
   "language": "python",
   "name": "python3"
  },
  "language_info": {
   "codemirror_mode": {
    "name": "ipython",
    "version": 3
   },
   "file_extension": ".py",
   "mimetype": "text/x-python",
   "name": "python",
   "nbconvert_exporter": "python",
   "pygments_lexer": "ipython3",
   "version": "3.11.5"
  }
 },
 "nbformat": 4,
 "nbformat_minor": 4
}
