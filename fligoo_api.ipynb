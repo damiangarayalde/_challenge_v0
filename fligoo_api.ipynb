{
 "cells": [
  {
   "cell_type": "code",
   "execution_count": 1,
   "metadata": {},
   "outputs": [],
   "source": [
    "# Notebook Overview:\n",
    "\n",
    "# the goal here was to check the API operation and test how the data transformation and sub selection was made."
   ]
  },
  {
   "cell_type": "code",
   "execution_count": 18,
   "metadata": {},
   "outputs": [
    {
     "name": "stdout",
     "output_type": "stream",
     "text": [
      "Requirement already satisfied: pandas==2.1.1 in /opt/conda/lib/python3.11/site-packages (from -r requirements_jupyter.txt (line 1)) (2.1.1)\n",
      "Requirement already satisfied: psycopg2-binary==2.9.9 in /opt/conda/lib/python3.11/site-packages (from -r requirements_jupyter.txt (line 2)) (2.9.9)\n",
      "Requirement already satisfied: SQLAlchemy==1.4.36 in /opt/conda/lib/python3.11/site-packages (from -r requirements_jupyter.txt (line 3)) (1.4.36)\n",
      "Requirement already satisfied: python-dotenv in /opt/conda/lib/python3.11/site-packages (from -r requirements_jupyter.txt (line 4)) (1.0.0)\n",
      "Requirement already satisfied: numpy>=1.23.2 in /opt/conda/lib/python3.11/site-packages (from pandas==2.1.1->-r requirements_jupyter.txt (line 1)) (1.26.0)\n",
      "Requirement already satisfied: python-dateutil>=2.8.2 in /opt/conda/lib/python3.11/site-packages (from pandas==2.1.1->-r requirements_jupyter.txt (line 1)) (2.8.2)\n",
      "Requirement already satisfied: pytz>=2020.1 in /opt/conda/lib/python3.11/site-packages (from pandas==2.1.1->-r requirements_jupyter.txt (line 1)) (2023.3.post1)\n",
      "Requirement already satisfied: tzdata>=2022.1 in /opt/conda/lib/python3.11/site-packages (from pandas==2.1.1->-r requirements_jupyter.txt (line 1)) (2023.3)\n",
      "Requirement already satisfied: greenlet!=0.4.17 in /opt/conda/lib/python3.11/site-packages (from SQLAlchemy==1.4.36->-r requirements_jupyter.txt (line 3)) (2.0.2)\n",
      "Requirement already satisfied: six>=1.5 in /opt/conda/lib/python3.11/site-packages (from python-dateutil>=2.8.2->pandas==2.1.1->-r requirements_jupyter.txt (line 1)) (1.16.0)\n"
     ]
    }
   ],
   "source": [
    "!pip install -r requirements_jupyter.txt"
   ]
  },
  {
   "cell_type": "code",
   "execution_count": 8,
   "metadata": {},
   "outputs": [],
   "source": [
    "import os\n",
    "import requests\n",
    "import pandas as pd\n",
    "#from dotenv import load_dotenv\n",
    "from dotenv import dotenv_values\n",
    "from sqlalchemy import create_engine, inspect\n",
    "\n",
    "\n",
    "CONFIG = dotenv_values('.env')\n",
    "if not CONFIG:\n",
    "    CONFIG = os.environ\n",
    "\n",
    "connection_uri = \"postgresql+psycopg2://{}:{}@{}:{}\".format(\n",
    "    CONFIG[\"POSTGRES_USER\"],\n",
    "    CONFIG[\"POSTGRES_PASSWORD\"],\n",
    "    CONFIG['POSTGRES_HOST'],\n",
    "    CONFIG[\"POSTGRES_PORT\"],\n",
    ")\n",
    "\n",
    "params = {\n",
    "    'access_key':CONFIG['API_ACCESS_KEY'],\n",
    "    'limit':100\n",
    "    #,\n",
    "    #'flight_status':'active' # Sometimes the api has no flights active\n",
    "}\n",
    "url = 'http://api.aviationstack.com/v1/flights'"
   ]
  },
  {
   "cell_type": "code",
   "execution_count": 9,
   "metadata": {},
   "outputs": [
    {
     "data": {
      "text/plain": [
       "<sqlalchemy.engine.base.Connection at 0xffff94108cd0>"
      ]
     },
     "execution_count": 9,
     "metadata": {},
     "output_type": "execute_result"
    }
   ],
   "source": [
    "engine = create_engine(connection_uri, pool_pre_ping=True)\n",
    "engine.connect()"
   ]
  },
  {
   "cell_type": "code",
   "execution_count": 10,
   "metadata": {},
   "outputs": [],
   "source": [
    "try:\n",
    "    # Send an HTTP GET request with a timeout\n",
    "    api_result = requests.get(url, params=params, timeout=100)\n",
    "\n",
    "    # Check if the request was successful (HTTP status code 200)\n",
    "    if api_result.status_code == 200:\n",
    "        # Parse the JSON response\n",
    "        api_response = api_result.json()\n",
    "        # Now you can work with the `api_response` data\n",
    "    else:\n",
    "        # Handle HTTP error responses\n",
    "        print(f\"HTTP Error {api_result.status_code}: {api_result.text}\")\n",
    "\n",
    "except requests.exceptions.RequestException as e:\n",
    "    # Handle network-related errors\n",
    "    print(f\"Request Exception: {e}\")\n",
    "\n",
    "except ValueError as ve:\n",
    "    # Handle JSON parsing errors\n",
    "    print(f\"JSON Parsing Error: {ve}\")"
   ]
  },
  {
   "cell_type": "code",
   "execution_count": 11,
   "metadata": {},
   "outputs": [
    {
     "data": {
      "text/html": [
       "<div>\n",
       "<style scoped>\n",
       "    .dataframe tbody tr th:only-of-type {\n",
       "        vertical-align: middle;\n",
       "    }\n",
       "\n",
       "    .dataframe tbody tr th {\n",
       "        vertical-align: top;\n",
       "    }\n",
       "\n",
       "    .dataframe thead th {\n",
       "        text-align: right;\n",
       "    }\n",
       "</style>\n",
       "<table border=\"1\" class=\"dataframe\">\n",
       "  <thead>\n",
       "    <tr style=\"text-align: right;\">\n",
       "      <th></th>\n",
       "      <th>flight_date</th>\n",
       "      <th>flight_status</th>\n",
       "      <th>departure_airport</th>\n",
       "      <th>departure_timezone</th>\n",
       "      <th>arrival_airport</th>\n",
       "      <th>arrival_timezone</th>\n",
       "      <th>arrival_terminal</th>\n",
       "      <th>airline_name</th>\n",
       "      <th>flight_number</th>\n",
       "    </tr>\n",
       "  </thead>\n",
       "  <tbody>\n",
       "    <tr>\n",
       "      <th>0</th>\n",
       "      <td>2023-10-05</td>\n",
       "      <td>landed</td>\n",
       "      <td>Port Lincoln</td>\n",
       "      <td>Australia - Adelaide</td>\n",
       "      <td>Adelaide International Airport</td>\n",
       "      <td>Australia - Adelaide</td>\n",
       "      <td>4</td>\n",
       "      <td>Thai AirAsia</td>\n",
       "      <td>540</td>\n",
       "    </tr>\n",
       "  </tbody>\n",
       "</table>\n",
       "</div>"
      ],
      "text/plain": [
       "  flight_date flight_status departure_airport    departure_timezone  \\\n",
       "0  2023-10-05        landed      Port Lincoln  Australia - Adelaide   \n",
       "\n",
       "                  arrival_airport      arrival_timezone arrival_terminal  \\\n",
       "0  Adelaide International Airport  Australia - Adelaide                4   \n",
       "\n",
       "   airline_name flight_number  \n",
       "0  Thai AirAsia           540  "
      ]
     },
     "metadata": {},
     "output_type": "display_data"
    }
   ],
   "source": [
    "# Flatten the JSON data into a DataFrame\n",
    "df = pd.json_normalize(api_response['data'])\n",
    "\n",
    "# Select and rename specific columns\n",
    "df = df[['flight_date', 'flight_status', 'departure.airport', 'departure.timezone','arrival.airport','arrival.timezone','arrival.terminal','airline.name', 'flight.number']]\n",
    "df.columns = ['flight_date', 'flight_status', 'departure_airport', 'departure_timezone','arrival_airport','arrival_timezone','arrival_terminal','airline_name', 'flight_number']\n",
    "\n",
    "# Replace '/' with '-' in specific columns\n",
    "df['departure_timezone'] = df['departure_timezone'].str.replace('/', ' - ')\n",
    "df['arrival_timezone'] = df['arrival_timezone'].str.replace('/', ' - ')\n",
    "\n",
    "display(df)"
   ]
  },
  {
   "cell_type": "code",
   "execution_count": 11,
   "metadata": {},
   "outputs": [
    {
     "name": "stdout",
     "output_type": "stream",
     "text": [
      "Memory Usage: 687 bytes\n",
      "Memory Usage: 0.67 kilobytes\n"
     ]
    }
   ],
   "source": [
    "memory_usage = df.memory_usage(deep=True).sum()\n",
    "\n",
    "# Print the memory usage in bytes\n",
    "print(f\"Memory Usage: {memory_usage} bytes\")\n",
    "\n",
    "# Convert memory usage to a more human-readable format (e.g., megabytes)\n",
    "memory_usage_kb = memory_usage / (1024 )\n",
    "print(f\"Memory Usage: {memory_usage_kb:.2f} kilobytes\")"
   ]
  },
  {
   "cell_type": "code",
   "execution_count": 12,
   "metadata": {},
   "outputs": [
    {
     "data": {
      "text/plain": [
       "1"
      ]
     },
     "execution_count": 12,
     "metadata": {},
     "output_type": "execute_result"
    }
   ],
   "source": [
    "raw_table_name = 'testdata'\n",
    "df.to_sql(raw_table_name, engine, if_exists='replace')"
   ]
  },
  {
   "cell_type": "code",
   "execution_count": 13,
   "metadata": {},
   "outputs": [
    {
     "name": "stdout",
     "output_type": "stream",
     "text": [
      "'testdata' exists in the DB!\n"
     ]
    }
   ],
   "source": [
    "def check_table_exists(table_name, engine):\n",
    "    if table_name in inspect(engine).get_table_names():\n",
    "        print(f\"{table_name!r} exists in the DB!\")\n",
    "    else:\n",
    "        print(f\"{table_name} does not exist in the DB!\")\n",
    "\n",
    "check_table_exists(raw_table_name, engine)"
   ]
  },
  {
   "cell_type": "code",
   "execution_count": 17,
   "metadata": {},
   "outputs": [
    {
     "data": {
      "text/html": [
       "<div>\n",
       "<style scoped>\n",
       "    .dataframe tbody tr th:only-of-type {\n",
       "        vertical-align: middle;\n",
       "    }\n",
       "\n",
       "    .dataframe tbody tr th {\n",
       "        vertical-align: top;\n",
       "    }\n",
       "\n",
       "    .dataframe thead th {\n",
       "        text-align: right;\n",
       "    }\n",
       "</style>\n",
       "<table border=\"1\" class=\"dataframe\">\n",
       "  <thead>\n",
       "    <tr style=\"text-align: right;\">\n",
       "      <th></th>\n",
       "      <th>index</th>\n",
       "      <th>flight_date</th>\n",
       "      <th>flight_status</th>\n",
       "      <th>departure_airport</th>\n",
       "      <th>departure_timezone</th>\n",
       "      <th>arrival_airport</th>\n",
       "      <th>arrival_timezone</th>\n",
       "      <th>arrival_terminal</th>\n",
       "      <th>airline_name</th>\n",
       "      <th>flight_number</th>\n",
       "    </tr>\n",
       "  </thead>\n",
       "  <tbody>\n",
       "    <tr>\n",
       "      <th>0</th>\n",
       "      <td>0</td>\n",
       "      <td>2023-10-05</td>\n",
       "      <td>landed</td>\n",
       "      <td>Port Lincoln</td>\n",
       "      <td>Australia - Adelaide</td>\n",
       "      <td>Adelaide International Airport</td>\n",
       "      <td>Australia - Adelaide</td>\n",
       "      <td>4</td>\n",
       "      <td>Thai AirAsia</td>\n",
       "      <td>540</td>\n",
       "    </tr>\n",
       "  </tbody>\n",
       "</table>\n",
       "</div>"
      ],
      "text/plain": [
       "   index flight_date flight_status departure_airport    departure_timezone  \\\n",
       "0      0  2023-10-05        landed      Port Lincoln  Australia - Adelaide   \n",
       "\n",
       "                  arrival_airport      arrival_timezone arrival_terminal  \\\n",
       "0  Adelaide International Airport  Australia - Adelaide                4   \n",
       "\n",
       "   airline_name flight_number  \n",
       "0  Thai AirAsia           540  "
      ]
     },
     "execution_count": 17,
     "metadata": {},
     "output_type": "execute_result"
    }
   ],
   "source": [
    "pd.read_sql(f\"SELECT * FROM {raw_table_name}\", engine)"
   ]
  },
  {
   "cell_type": "code",
   "execution_count": null,
   "metadata": {},
   "outputs": [],
   "source": []
  }
 ],
 "metadata": {
  "kernelspec": {
   "display_name": "Python 3 (ipykernel)",
   "language": "python",
   "name": "python3"
  },
  "language_info": {
   "codemirror_mode": {
    "name": "ipython",
    "version": 3
   },
   "file_extension": ".py",
   "mimetype": "text/x-python",
   "name": "python",
   "nbconvert_exporter": "python",
   "pygments_lexer": "ipython3",
   "version": "3.11.5"
  }
 },
 "nbformat": 4,
 "nbformat_minor": 4
}
